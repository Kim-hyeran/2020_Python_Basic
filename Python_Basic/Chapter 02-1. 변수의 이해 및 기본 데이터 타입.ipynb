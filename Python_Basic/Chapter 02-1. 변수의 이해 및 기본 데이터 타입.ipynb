{
 "cells": [
  {
   "cell_type": "markdown",
   "metadata": {},
   "source": [
    "### 학습목표\n",
    "1. python 언어에서 변수의 의미 이해하기\n",
    "2. 기본 데이터 타입 선언하기\n",
    " - 문자열(String)='Hello', \"Hi\"\n",
    " - 숫자(Number)=int, float\n",
    " - 불(boolean)=True, False"
   ]
  },
  {
   "cell_type": "markdown",
   "metadata": {},
   "source": [
    "### 기본 데이터 타입\n",
    "* variable ceclaration&value assignment(변수 선언 및 값 할당)"
   ]
  },
  {
   "cell_type": "markdown",
   "metadata": {},
   "source": [
    "##### =대입 연산자, == 비교 연산자\n",
    " - 대입의 경우, 오른쪽의 수식이나 값을 evaluation(여기서는 계산이라는 의미로 사용)한 뒤,\n",
    " - 왼쪽에 명시된 변수에 해당 값을 대입\n",
    " - 변수는 해당 값을 가지게 됨"
   ]
  },
  {
   "cell_type": "code",
   "execution_count": 1,
   "metadata": {},
   "outputs": [],
   "source": [
    "a=10 #int\n",
    "b=11.4 #float"
   ]
  },
  {
   "cell_type": "markdown",
   "metadata": {},
   "source": [
    "#### **comment(주석)**\n",
    " - 코드에서 #으로 시작하는 뒷부분은 실행되지 않음\n",
    " - python이 소스코드를 실행하면서 #을 만나면 무시\n",
    " - 개발자(사람)가 보기 위한 용도로 사용"
   ]
  },
  {
   "cell_type": "code",
   "execution_count": 2,
   "metadata": {},
   "outputs": [],
   "source": [
    "# this line is very important\n",
    "# so don't delete those lines\n",
    "\n",
    "a=10\n",
    "b=11.4"
   ]
  },
  {
   "cell_type": "markdown",
   "metadata": {},
   "source": [
    "#### **print 함수**\n",
    " - 함수란 특정 기능을 반복적으로 호출하여 사용 가능한 코드블럭\n",
    " - 해당 변수의 값을 출력\n",
    " - ,로 여러 변수를 나열하면 한 줄에 출력\n",
    " - 기본적으로는 한 칸 띄어쓰기 후 출력"
   ]
  },
  {
   "cell_type": "code",
   "execution_count": 3,
   "metadata": {},
   "outputs": [
    {
     "name": "stdout",
     "output_type": "stream",
     "text": [
      "10 11.4\n",
      "10 10 200 11.4\n"
     ]
    }
   ],
   "source": [
    "print(a, b)\n",
    "print(a, 10, 200, b)"
   ]
  },
  {
   "cell_type": "markdown",
   "metadata": {},
   "source": [
    "#### JAVA Code\n",
    "String name=\"살 체리\";\n",
    "int age=5;\n",
    "System.out.println(age+name);\n",
    ">\"5살 체리\""
   ]
  },
  {
   "cell_type": "code",
   "execution_count": 4,
   "metadata": {},
   "outputs": [
    {
     "name": "stdout",
     "output_type": "stream",
     "text": [
      "5 살 체리\n",
      "5살 체리\n"
     ]
    }
   ],
   "source": [
    "#### Python Code\n",
    "name='살 체리'\n",
    "age=5\n",
    "# print(age+name)\n",
    "print(age,name)\n",
    "print('{}살 체리'.format(age))"
   ]
  },
  {
   "cell_type": "markdown",
   "metadata": {},
   "source": [
    "* **print함수 설정**\n",
    " - sep : 구분자, 각 출력할 변수 사이에서 구별하는 역할을 함\n",
    " - end : 마지막에 출력할 문자열"
   ]
  },
  {
   "cell_type": "code",
   "execution_count": 5,
   "metadata": {},
   "outputs": [
    {
     "name": "stdout",
     "output_type": "stream",
     "text": [
      "10*11.4*10*100!!"
     ]
    }
   ],
   "source": [
    "print(a, b, 10, 100, sep='*', end='!!')"
   ]
  },
  {
   "cell_type": "markdown",
   "metadata": {},
   "source": [
    "#### **(Jupyter)에서 변수 값 확인법**\n",
    " - print() 함수 사용\n",
    " - 변수 값을 코드의 마지막에 위치시킨 후 실행\n",
    "     - 이 경우 output으로 변수의 값이 출력"
   ]
  },
  {
   "cell_type": "code",
   "execution_count": 6,
   "metadata": {},
   "outputs": [
    {
     "data": {
      "text/plain": [
       "10"
      ]
     },
     "execution_count": 6,
     "metadata": {},
     "output_type": "execute_result"
    }
   ],
   "source": [
    "a=5\n",
    "b=10\n",
    "# print(a)\n",
    "a\n",
    "b # 가장 마지막에 위치한 값이 출력됨(a는 출력되지 않음)"
   ]
  },
  {
   "cell_type": "markdown",
   "metadata": {},
   "source": [
    "#### **Variable Naming(변수 이름 규칙)**\n",
    " - 숫자로 시작하는 이름을 제외하고 영문 대소문자, _, 숫자로 구성 가능\n",
    " - 아래의 예제는 모두 vaild한 변수 이름\n",
    " - 일반적으로 해당 변수를 표현하고자 하는 정확하고 간결한 이름을 사용하는 것이 원칙\n",
    "     - 코드 읽는 것을 더 쉽게 할 수 있음\n",
    "     - e.g) a=1000의 경우보다 **student_num=1000**으로 명시한 것이 변수에 대한 이해가 빠름"
   ]
  },
  {
   "cell_type": "markdown",
   "metadata": {},
   "source": [
    "#### Naming Method\n",
    " - snake_case=소문자로 작성하고, 합성어는 _ 사용\n",
    " - CamelCase=첫글자 대문자, 합성어 첫글자 대문자\n",
    " \n",
    " - java는 CamelCase만 사용\n",
    "     - 변수 : 첫글자 소문자, 합성어 첫글자 대문자    ex) studentNum\n",
    "     - Method : 첫글자 소문자, 합성어 첫글자 대문자  ex) calcSum()\n",
    "     - 클래스 : 첫글자 대문자, 합성어 첫글자 대문자  ex) BoardService\n",
    "\n",
    " - Python은 snake_case와 CamelCase 모두 사용\n",
    "     - 변수 : snake_case, 모두 소문자    ex) student_num\n",
    "     - Method : snake_case, 모두 소문자  ex) calc_sum()\n",
    "     - 클래스 : CamelCase 첫글자 대문자, 합성어 첫글자 대문자   ex) BoardService"
   ]
  },
  {
   "cell_type": "code",
   "execution_count": 8,
   "metadata": {},
   "outputs": [],
   "source": [
    "# Error는 나지 않지만 권장하지 않는 방식\n",
    "abcABC=100\n",
    "_abc124=200\n",
    "ABC124=200\n",
    "a456BC=100\n",
    "\n",
    "a=200\n",
    "number_of_students=200"
   ]
  },
  {
   "cell_type": "markdown",
   "metadata": {},
   "source": [
    "* **invalid한 변수 이름의 예**\n",
    " - 숫자로 시작하면 안되는 이유는?"
   ]
  },
  {
   "cell_type": "markdown",
   "metadata": {},
   "source": [
    "4=9"
   ]
  },
  {
   "cell_type": "markdown",
   "metadata": {},
   "source": [
    "#### **Reserved Keywords(예약어)**\n",
    " - python에서 미리 선점하여 사용 중인 키워드\n",
    " - 변수, 함수, 클래스 등의 사용자 정의 이름으로 사용할 수 없음\n",
    " > for, while, if, elif, else, class, try, except, True, False(대문자로 시작하는 경우), None(=null), and, as, nonlocal, return, raise, is, in, import, def, not, pass, break, continue, del, from, global..."
   ]
  },
  {
   "cell_type": "code",
   "execution_count": null,
   "metadata": {},
   "outputs": [],
   "source": [
    "# 예약어를 변수명으로 사용하고 싶을 때는 문자 앞에 _를 붙여서 사용\n",
    "_class=100\n",
    "print(_class)"
   ]
  },
  {
   "cell_type": "markdown",
   "metadata": {},
   "source": [
    "### 기본 데이터 타입(Type 함수)\n",
    " - 정수(int)\n",
    " - 실수(float)\n",
    " - 문자열(str)\n",
    " - 불리언(boolean)\n",
    " > type 함수를 사용하면 데이터의 자료형 확인 가능"
   ]
  },
  {
   "cell_type": "code",
   "execution_count": 10,
   "metadata": {},
   "outputs": [
    {
     "name": "stdout",
     "output_type": "stream",
     "text": [
      "<class 'int'>\n",
      "<class 'float'>\n",
      "<class 'bool'>\n",
      "<class 'str'>\n"
     ]
    }
   ],
   "source": [
    "a=10\n",
    "b=3.14\n",
    "c=True\n",
    "d='Hello'\n",
    "print(type(a))\n",
    "print(type(b))\n",
    "print(type(c))\n",
    "print(type(d))"
   ]
  },
  {
   "cell_type": "markdown",
   "metadata": {},
   "source": [
    "#### **None**\n",
    " - 아무런 값을 갖지 않을 때 사용\n",
    " - 일반적으로 변수가 초기값을 갖지 않게 하여 해당 변수를 생성할 때 사용\n",
    " - 기타 언어의 Null, nil 등과 같은 의미로 사용"
   ]
  },
  {
   "cell_type": "code",
   "execution_count": null,
   "metadata": {},
   "outputs": [],
   "source": [
    "c=None\n",
    "print(c) # None은 None Type"
   ]
  },
  {
   "cell_type": "markdown",
   "metadata": {},
   "source": [
    "#### **Comparison Operator(비교 연산자)**\n",
    " - 프로그래밍에서는 비교를 할 경우, = 대신 **==** 를 사용\n",
    " - <, > (작다, 크다)\n",
    " - <=, >= (작거나 같다, 크거나 같다)\n",
    " - == 같다\n",
    " - != 같지 않다\n",
    " - 비교 연산자의 결과는 Bool Type"
   ]
  },
  {
   "cell_type": "code",
   "execution_count": 12,
   "metadata": {},
   "outputs": [
    {
     "name": "stdout",
     "output_type": "stream",
     "text": [
      "True\n",
      "False\n",
      "True\n",
      "False\n",
      "False\n",
      "True\n",
      "<class 'bool'>\n",
      "True\n"
     ]
    }
   ],
   "source": [
    "a=5\n",
    "b=4\n",
    "\n",
    "print(a>b) # True\n",
    "print(a<b) # False\n",
    "print(a>=b) # True\n",
    "print(a<=b) # False\n",
    "print(a==b) # False\n",
    "print(a!=b) # True\n",
    "\n",
    "c=a>b\n",
    "c=True\n",
    "print(type(c))\n",
    "print(c)"
   ]
  },
  {
   "cell_type": "markdown",
   "metadata": {},
   "source": [
    "#### **Numbers(숫자형 타입)**\n",
    " - 정수, 실수로 구성\n",
    " - 수학의 기본 연산자(가감승제) 사용 가능"
   ]
  },
  {
   "cell_type": "code",
   "execution_count": null,
   "metadata": {},
   "outputs": [],
   "source": [
    "a=5\n",
    "b=4\n",
    "\n",
    "print(a+b) # 덧셈\n",
    "print(a*b) # 곱셈\n",
    "print(a-b) # 뺄셈\n",
    "print(a/b) # 나눗셈(몫)\n",
    "print(a%b) # 나눗셈(나머지)\n",
    "print(a**b) # 제곱(a의 b승)"
   ]
  },
  {
   "cell_type": "markdown",
   "metadata": {},
   "source": [
    "#### **Operator Priorities(연산자 우선순위**\n",
    " - 기본적인 수학의 연산자와 동일\n",
    " - 강제로 연산을 선수하기 위해서는 괄호()를 사용"
   ]
  },
  {
   "cell_type": "code",
   "execution_count": 13,
   "metadata": {},
   "outputs": [
    {
     "name": "stdout",
     "output_type": "stream",
     "text": [
      "21\n",
      "36\n"
     ]
    }
   ],
   "source": [
    "a=5\n",
    "b=4\n",
    "\n",
    "print(a+b*4)\n",
    "print((a+b)*4)"
   ]
  },
  {
   "cell_type": "markdown",
   "metadata": {},
   "source": [
    "* **연습문제** 다음의 각 a값을 출력했을 때 결과는?"
   ]
  },
  {
   "cell_type": "code",
   "execution_count": null,
   "metadata": {},
   "outputs": [],
   "source": [
    "a=9\n",
    "print(a) # 9\n",
    "print(a-3) # 6\n",
    "print(a) # 9\n",
    "# 변수에 값을 담기 전까지는 1회성으로만 실행됨"
   ]
  },
  {
   "cell_type": "markdown",
   "metadata": {},
   "source": [
    "#### **Expression Evaluation&Assignment(식 평가&대입)**\n",
    " - 변수의 값이 변경되기 위해서는 =를 사용하여 대입이 발생하는 경우에만 해당"
   ]
  },
  {
   "cell_type": "code",
   "execution_count": 15,
   "metadata": {},
   "outputs": [
    {
     "name": "stdout",
     "output_type": "stream",
     "text": [
      "9\n"
     ]
    }
   ],
   "source": [
    "a=9\n",
    "a-3\n",
    "\n",
    "print(a)"
   ]
  },
  {
   "cell_type": "code",
   "execution_count": 16,
   "metadata": {},
   "outputs": [
    {
     "name": "stdout",
     "output_type": "stream",
     "text": [
      "6\n"
     ]
    }
   ],
   "source": [
    "a=9\n",
    "t=a-3\n",
    "a=t\n",
    "\n",
    "print(a)"
   ]
  },
  {
   "cell_type": "code",
   "execution_count": 17,
   "metadata": {},
   "outputs": [
    {
     "name": "stdout",
     "output_type": "stream",
     "text": [
      "6\n"
     ]
    }
   ],
   "source": [
    "a=9\n",
    "a=a-3\n",
    "\n",
    "print(a)"
   ]
  },
  {
   "cell_type": "code",
   "execution_count": 14,
   "metadata": {},
   "outputs": [
    {
     "name": "stdout",
     "output_type": "stream",
     "text": [
      "729\n"
     ]
    }
   ],
   "source": [
    "a=9\n",
    "#a=a-3\n",
    "a**=3\n",
    "\n",
    "print(a)"
   ]
  },
  {
   "cell_type": "markdown",
   "metadata": {},
   "source": [
    "#### **형변환**\n",
    " - str() : 문자열 형변환\n",
    " - int() : 정수형 형변환\n",
    " - float() : 실수형 형변환\n",
    " > int()와 float()에 문자열을 넣으면 Error 발생, 반드시 숫자만 사용"
   ]
  },
  {
   "cell_type": "code",
   "execution_count": 18,
   "metadata": {},
   "outputs": [
    {
     "name": "stdout",
     "output_type": "stream",
     "text": [
      "<class 'int'>\n",
      "<class 'str'>\n"
     ]
    }
   ],
   "source": [
    "a=52\n",
    "print(type(a))\n",
    "\n",
    "b=str(a)\n",
    "print(type(b)) # 문자열로 형변환"
   ]
  }
 ],
 "metadata": {
  "kernelspec": {
   "display_name": "Python 3",
   "language": "python",
   "name": "python3"
  },
  "language_info": {
   "codemirror_mode": {
    "name": "ipython",
    "version": 3
   },
   "file_extension": ".py",
   "mimetype": "text/x-python",
   "name": "python",
   "nbconvert_exporter": "python",
   "pygments_lexer": "ipython3",
   "version": "3.7.6"
  }
 },
 "nbformat": 4,
 "nbformat_minor": 4
}
