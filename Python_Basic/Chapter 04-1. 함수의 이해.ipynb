{
 "cells": [
  {
   "cell_type": "markdown",
   "metadata": {},
   "source": [
    "### 학습목표\n",
    "1. 함수의 이해\n",
    "2. 함수의 구현 및 사용 숙지"
   ]
  },
  {
   "cell_type": "markdown",
   "metadata": {},
   "source": [
    "### 함수?\n",
    " * 지금까지 무심코 코드에서 사용된 많은 함수들이 존재\n",
    " * 예 : sum, len, range 등\n",
    " * 함수는 주어진 입력(input)에 대해서 의도된 출력(output)을 전달하는 역할 \n",
    "  > range : 정수를 입력으로 전달하면 [0, 정수]로 이루어진 리스트를 생성  \n",
    "  > sum : 리스트, 튜플 등을 입력으로 전달하면 전체 아이템의 합을 출력으로 전달  \n",
    "  > len : 리스트, 튜플 등을 입력으로 전달하면 아이템의 갯수를 출력으로 전달  \n",
    " * 위의 함수들은 모두 python 내부에 이미 정의(구현)되어 있음\n",
    " * 위와 같은 함수를 내장함수(built-in function)이라고 한다."
   ]
  },
  {
   "cell_type": "code",
   "execution_count": 1,
   "metadata": {},
   "outputs": [
    {
     "name": "stdout",
     "output_type": "stream",
     "text": [
      "4\n",
      "10\n"
     ]
    }
   ],
   "source": [
    "#내장함수의 예\n",
    "a=[1, 2, 3, 4]\n",
    "length=len(a)\n",
    "print(length)\n",
    "\n",
    "summation=sum(a)\n",
    "print(summation)"
   ]
  },
  {
   "cell_type": "markdown",
   "metadata": {},
   "source": [
    "#### **함수의 정의**\n",
    " + 정의 시 최초에 def 키워드 사용\n",
    " + argument 정의 : 함수에 입력으로 전달하는 값을 의미, argument 또는 parameter라고 함\n",
    " + :(콜론) : 함수 역시 코드블록이기 때문에 필요\n",
    " + body : 함수의 구현부분, 함수 역시 코드블록이기 때문에 들여쓰기 된 부분까지 함수의 코드블록으로 인지\n",
    "    - 함수를 호출한 코드(caller)로 함수가 해당 기능을 수행하고 완료된 값(output)을 전달하기 위해 return 키워드 사용\n",
    "    - 즉, return 이후에 오는 값을 caller로 전달\n",
    " + 반환값이 없을 때 return만 단독으로 사용하면 메서드를 종료하라는 뜻과 같다\n",
    " + 함수의 네이밍\n",
    "     - 어떤 기능을 하는 함수인지 이름으로 최대한 나타낼 수 있어야 함\n",
    "     - 예 : get_a(x), get_student_name(o)"
   ]
  },
  {
   "cell_type": "code",
   "execution_count": 2,
   "metadata": {},
   "outputs": [],
   "source": [
    "def add(x, y) :\n",
    "    n=x+y\n",
    "    return n #return : 값을 호출한 호출문에 해당 값을 전달"
   ]
  },
  {
   "cell_type": "code",
   "execution_count": 4,
   "metadata": {},
   "outputs": [
    {
     "name": "stdout",
     "output_type": "stream",
     "text": [
      "330\n"
     ]
    }
   ],
   "source": [
    "c=add(30, 300) #method 호출문\n",
    "                #1. method 호출 -> method실행(return 값) -> 변수로 변경됨\n",
    "\n",
    "print(c)"
   ]
  },
  {
   "cell_type": "markdown",
   "metadata": {},
   "source": [
    " + java와는 달리 method overloading 이 되지 않음\n",
    " + error는 발생되지 않지만 호출해서 사용하면 호출된 함수와 동일한 함수만 사용 가능"
   ]
  },
  {
   "cell_type": "code",
   "execution_count": 5,
   "metadata": {},
   "outputs": [
    {
     "name": "stdout",
     "output_type": "stream",
     "text": [
      "생성자 오버로딩, 초롱\n"
     ]
    },
    {
     "ename": "TypeError",
     "evalue": "setData() missing 1 required positional argument: 'code'",
     "output_type": "error",
     "traceback": [
      "\u001b[1;31m---------------------------------------------------------------------------\u001b[0m",
      "\u001b[1;31mTypeError\u001b[0m                                 Traceback (most recent call last)",
      "\u001b[1;32m<ipython-input-5-9fbf9cf7b821>\u001b[0m in \u001b[0;36m<module>\u001b[1;34m\u001b[0m\n\u001b[0;32m     13\u001b[0m \u001b[1;31m#t2=TestClass() Error 발생(name값을 매개변수로 보내라는 Error)\u001b[0m\u001b[1;33m\u001b[0m\u001b[1;33m\u001b[0m\u001b[1;33m\u001b[0m\u001b[0m\n\u001b[0;32m     14\u001b[0m \u001b[1;33m\u001b[0m\u001b[0m\n\u001b[1;32m---> 15\u001b[1;33m \u001b[0mt1\u001b[0m\u001b[1;33m.\u001b[0m\u001b[0msetData\u001b[0m\u001b[1;33m(\u001b[0m\u001b[1;34m'민꽁'\u001b[0m\u001b[1;33m)\u001b[0m\u001b[1;33m\u001b[0m\u001b[1;33m\u001b[0m\u001b[0m\n\u001b[0m\u001b[0;32m     16\u001b[0m \u001b[0mt1\u001b[0m\u001b[1;33m.\u001b[0m\u001b[0msetData\u001b[0m\u001b[1;33m(\u001b[0m\u001b[1;34m'초롱'\u001b[0m\u001b[1;33m,\u001b[0m \u001b[1;36m5\u001b[0m\u001b[1;33m)\u001b[0m\u001b[1;33m\u001b[0m\u001b[1;33m\u001b[0m\u001b[0m\n\u001b[0;32m     17\u001b[0m \u001b[0mt1\u001b[0m\u001b[1;33m.\u001b[0m\u001b[0msetDAta\u001b[0m\u001b[1;33m(\u001b[0m\u001b[1;34m'체리'\u001b[0m\u001b[1;33m,\u001b[0m \u001b[1;36m3\u001b[0m\u001b[1;33m)\u001b[0m\u001b[1;33m\u001b[0m\u001b[1;33m\u001b[0m\u001b[0m\n",
      "\u001b[1;31mTypeError\u001b[0m: setData() missing 1 required positional argument: 'code'"
     ]
    }
   ],
   "source": [
    "class TestClass() :\n",
    "    def __init__(self) : #python의 생성자 : __init__\n",
    "        print('기본 생성자입니다.')\n",
    "    def __init__(self, name) :\n",
    "        print('생성자 오버로딩,', name)\n",
    "        \n",
    "    def setData(self, nick) :\n",
    "        print('메서드 오버로딩,', nick)\n",
    "    def setData(self, nick, code) :\n",
    "        print('메서드 오버로딩,', nick, code)\n",
    "        \n",
    "t1=TestClass('초롱')\n",
    "#t2=TestClass() Error 발생(name값을 매개변수로 보내라는 Error)\n",
    "\n",
    "t1.setData('민꽁')\n",
    "t1.setData('초롱', 5)\n",
    "t1.setDAta('체리', 3)"
   ]
  },
  {
   "cell_type": "markdown",
   "metadata": {},
   "source": [
    "#### **함수의 사용(호출)**\n",
    " + 함수명(파라미터1, 파라미터2, ... , 파라미터n)\n",
    " + 위와 같이 정의된 함수 이름과 전달되는 parameter(인자)를 괄호 안에 전달하여 함수 호출\n",
    " + 함수가 호출되면 실행의 흐름이 호출자(caller)에서 함수(callee)로 변경됨\n",
    " + 함수의 입력(input) 파라미터(parameter), 아규먼트(argument)라고도 함"
   ]
  },
  {
   "cell_type": "code",
   "execution_count": 6,
   "metadata": {},
   "outputs": [
    {
     "name": "stdout",
     "output_type": "stream",
     "text": [
      "70\n"
     ]
    }
   ],
   "source": [
    "c=add(30,40)\n",
    "print(c)"
   ]
  },
  {
   "cell_type": "markdown",
   "metadata": {},
   "source": [
    "#### **함수 네이밍(Naming)**\n",
    " + 함수 이름으로부터 기능이 명시\n",
    " + 의미와 반대되거나 맞지 않는 이름은 사용 금지"
   ]
  },
  {
   "cell_type": "code",
   "execution_count": 7,
   "metadata": {},
   "outputs": [
    {
     "name": "stdout",
     "output_type": "stream",
     "text": [
      "1\n"
     ]
    }
   ],
   "source": [
    "def substract(x, y) :\n",
    "    sub=x-y\n",
    "    return sub\n",
    "\n",
    "print(substract(4, 3))"
   ]
  },
  {
   "cell_type": "markdown",
   "metadata": {},
   "source": [
    "#### **Parameter(argument) 인자**\n",
    "\n",
    " + 함수에 전달되는 입력(input)\n",
    " + 입력이 필요하지 않을 수도, 1개의 입력민 있을 수도, 여러 개의 입력이 존재할 수도 있음\n",
    " + 파라미터로 int, String, float, bool, list, dict 등 어떤 python 객체도 전달 가능\n",
    " + 심지어 함수도 함수의 파라미터로 전달 가능\n",
    " + python의 경우, 타입 명시가 없기 때문에 함수 생성 시 의도된 파라미터 타입에 입력을 전달하는 것이 중요\n",
    " + 또한 파라미터를 전달할 때, 정의된 순서에 따라 값을 전달하는 것이 중요"
   ]
  },
  {
   "cell_type": "code",
   "execution_count": 10,
   "metadata": {},
   "outputs": [
    {
     "name": "stdout",
     "output_type": "stream",
     "text": [
      "-30\n"
     ]
    }
   ],
   "source": [
    "def substract(x, y) :\n",
    "    sub=x-y\n",
    "    return sub\n",
    "\n",
    "x=100\n",
    "y=70\n",
    "a=substract(y, x) #지정한 값이 아닌 순서대로 전달됨\n",
    "print(a)"
   ]
  },
  {
   "cell_type": "markdown",
   "metadata": {},
   "source": [
    "#### Default Parameter(기본 인자)\n",
    " + 함수의 파라미터에 기본값 지정 가능\n",
    " + 간혹 함수의 첫 번째 매개변수로 self를 받는 경우가 있는데, class 내에 정의된 함수는 반드시 self를 첫 매개변수로 받아야 함\n",
    " + 파라미터를 명시하지 않을 경우 지정된 기본값으로 대체\n",
    " + 모두 기본값이 정해진 상태에서는 함수 호출 시 매개변수에 해당변수의 값을 넣을 수 있음\n",
    " \n",
    "```python\n",
    "    def add(x=0, y=0, z=0) #가능\n",
    "        a=x+y+z\n",
    "        return a\n",
    "    add(y=10)\n",
    "```\n",
    " + 디폴트 인자는 매개변수 순서 앞에서부터 사용 가능, 가운데나 마지막은 불가능\n",
    "```python\n",
    "   def add(x=0, y, z=0) #error 발생\n",
    "       a=x+y+z\n",
    "       return a\n",
    "   add(y=10)\n",
    "````"
   ]
  },
  {
   "cell_type": "code",
   "execution_count": 11,
   "metadata": {},
   "outputs": [
    {
     "data": {
      "text/plain": [
       "25"
      ]
     },
     "execution_count": 11,
     "metadata": {},
     "output_type": "execute_result"
    }
   ],
   "source": [
    "def add(x=5, y=5, z=10) :\n",
    "    a=x+y+z\n",
    "    return a\n",
    "\n",
    "add(y=10)"
   ]
  },
  {
   "cell_type": "markdown",
   "metadata": {},
   "source": [
    "#### Default Parameter 사용 시 주의점\n",
    " + 디폴트 파라미터 뒤에 일반 파라미터가 위치할 수 없음\n",
    " + 올바른 예\n",
    " > def test(a, b, c=1)  \n",
    " > def test(a, b=1, c=2)  \n",
    " > def test(a=1, b=1, c=3)  \n",
    " \n",
    " + 올바르지 않은 예\n",
    " > def test(a, b=1, c)  \n",
    " > def test(a=1, b, c)  \n",
    " > def test(a=1, b=1, c)  "
   ]
  },
  {
   "cell_type": "markdown",
   "metadata": {},
   "source": [
    "* **기본 파라미터의 다른 예**\n",
    "    - print 함수\n",
    "        - sep, end, file 등 여러 기본 파라미터를 가짐"
   ]
  },
  {
   "cell_type": "code",
   "execution_count": 13,
   "metadata": {},
   "outputs": [
    {
     "name": "stdout",
     "output_type": "stream",
     "text": [
      "1!2!3%%%2p3p4\n"
     ]
    }
   ],
   "source": [
    "print(1, 2, 3, sep='!', end='%%%')\n",
    "print(2, 3, 4, sep='p')"
   ]
  },
  {
   "cell_type": "code",
   "execution_count": 15,
   "metadata": {},
   "outputs": [
    {
     "name": "stdout",
     "output_type": "stream",
     "text": [
      "10 20 1\n"
     ]
    }
   ],
   "source": [
    "def test(a, b=3, c=0) :\n",
    "    print(a, b, c)\n",
    "    \n",
    "test(10, 20, 1)"
   ]
  },
  {
   "cell_type": "markdown",
   "metadata": {},
   "source": [
    "#### **Keyword Parameter(키워드 파라미터)**\n",
    "+ python의 경우, 파라미터에 값을 전달할 때 파라미터의 이름을 명시하여 전달 가능\n",
    "+ 파라미터의 이름을 사용하지 않을 경우, 기본적으로 순서에 맞게 전달"
   ]
  },
  {
   "cell_type": "code",
   "execution_count": 14,
   "metadata": {},
   "outputs": [
    {
     "data": {
      "text/plain": [
       "63"
      ]
     },
     "execution_count": 14,
     "metadata": {},
     "output_type": "execute_result"
    }
   ],
   "source": [
    "def test(x, y, z) :\n",
    "    a=x+y+z\n",
    "    return a\n",
    "\n",
    "test(x=10, y=50, z=3)"
   ]
  },
  {
   "cell_type": "markdown",
   "metadata": {},
   "source": [
    "#### **Return(리턴)**\n",
    "+ 기본적으로 함수의 종료를 명시\n",
    "    - return 옆에 값이나 수식이 있다면 해당 값을 호출자(caller)에게 반환(전달)\n",
    "    - return만 존재하면 None 반환\n",
    "    - return이 없는 경우 기본적으로 함수 코드블록이 종료되면 종료로 간주, 이 경우에도 None 반환\n",
    "    - return문 다음에 오는 코드는 실행되지 않음(Error가 발생되진 않고 실행만 안 됨)"
   ]
  },
  {
   "cell_type": "markdown",
   "metadata": {},
   "source": [
    "#### **Multiple Return(복수 값 반환)**\n",
    " + tuple을 반환하여 복수 개의 값 리턴 가능"
   ]
  },
  {
   "cell_type": "code",
   "execution_count": 16,
   "metadata": {},
   "outputs": [
    {
     "name": "stdout",
     "output_type": "stream",
     "text": [
      "23 60\n",
      "(23, 60)\n"
     ]
    }
   ],
   "source": [
    "def add_mul(x, y) :\n",
    "    s=x+y\n",
    "    m=x*y\n",
    "    \n",
    "    return s, m\n",
    "\n",
    "a, b=add_mul(20, 3)\n",
    "c=add_mul(20, 3)\n",
    "print(a, b) #tuple을 unpacking하여 값을 각각 따로따로 받음\n",
    "print(c) #tuple로 값을 받음"
   ]
  },
  {
   "cell_type": "markdown",
   "metadata": {},
   "source": [
    "#### **Variable Scope(변수의 범위)**\n",
    " + 변수가 참조 가능한 코드상의 범위를 명시\n",
    " + 함수 내의 변수는 자신이 속한 코드블록이 종료되면 소멸됨\n",
    " + 특정 코드블록에서 선언된 변수를 **지역변수(local variable)** 라고 함\n",
    " + 반대로 가장 상단에서 정의되어 프로그램 종료 전까지 유지되는 변수를 **전역변수(global variable)** 라고 함\n",
    " + 같은 이름의 지역변수와 전역변수가 존재할 경우, 지역변수의 우선순위가 더 높음"
   ]
  },
  {
   "cell_type": "code",
   "execution_count": null,
   "metadata": {},
   "outputs": [],
   "source": [
    "print(num1, num2)"
   ]
  },
  {
   "cell_type": "code",
   "execution_count": 17,
   "metadata": {},
   "outputs": [
    {
     "name": "stdout",
     "output_type": "stream",
     "text": [
      "30 40\n",
      "10 30\n"
     ]
    }
   ],
   "source": [
    "num1=10 #전역변수 : 어떤 블록에도 속해있지 않은 변수\n",
    "num2=30\n",
    "\n",
    "def test(num1, num2) : #지역변수 : 블록 내에 속한 변수\n",
    "    print(num1, num2)\n",
    "    return num1+num2\n",
    "\n",
    "test(30, 40)\n",
    "print(num1, num2)"
   ]
  },
  {
   "cell_type": "markdown",
   "metadata": {},
   "source": [
    "#### **함수 안에서 함수 밖의 전역변수를 변경하는 방법**"
   ]
  },
  {
   "cell_type": "code",
   "execution_count": 18,
   "metadata": {},
   "outputs": [
    {
     "name": "stdout",
     "output_type": "stream",
     "text": [
      "1\n",
      "4\n"
     ]
    }
   ],
   "source": [
    "#1. return을 사용하는 방법\n",
    "a=1 #전역변수\n",
    "print(a)\n",
    "def vartest(a) : #지역변수\n",
    "    a=a+1\n",
    "    return a\n",
    "a=vartest(3)\n",
    "print(a)"
   ]
  },
  {
   "cell_type": "code",
   "execution_count": 19,
   "metadata": {},
   "outputs": [
    {
     "name": "stdout",
     "output_type": "stream",
     "text": [
      "1\n",
      "2\n"
     ]
    }
   ],
   "source": [
    "#2. global을 사용하는 방법\n",
    "a=1\n",
    "print(a)\n",
    "def vartest() :\n",
    "    global a\n",
    "    a=a+1\n",
    "vartest()\n",
    "print(a)"
   ]
  },
  {
   "cell_type": "markdown",
   "metadata": {},
   "source": [
    "#### **Variable Length Argument(가변길이 인자)**\n",
    " - 전달되는 파라미터의 갯수가 고정적이지 않은 경우 사용\n",
    " - 예 :\n",
    "     - print 함수\n",
    "     - format 함수\n",
    " > ***args***, ***kwargs***  \n",
    " > ***args*** : 파라미터를 튜플의 형태로 전달  \n",
    " > ***kwargs*** : 파라미터를 딕셔너리 형태로 전달(네임드 파라미터)"
   ]
  },
  {
   "cell_type": "code",
   "execution_count": 20,
   "metadata": {},
   "outputs": [
    {
     "name": "stdout",
     "output_type": "stream",
     "text": [
      "10\n",
      "30\n",
      "40\n",
      "50\n",
      "60\n",
      "70\n"
     ]
    }
   ],
   "source": [
    "def test(*args) : #arguments\n",
    "    for item in args :\n",
    "        print(item)\n",
    "        \n",
    "test(10, 30, 40, 50, 60, 70)"
   ]
  },
  {
   "cell_type": "markdown",
   "metadata": {},
   "source": [
    "#### **Keyword Parameter(키워드 파라미터)**\n",
    " - \\** 가 붙은 경우에는 키워드 파라미터로 인식\n",
    " - 즉, 함수 호출 시 파라미터의 이름과 값을 함께 전달 가능"
   ]
  },
  {
   "cell_type": "code",
   "execution_count": 26,
   "metadata": {},
   "outputs": [
    {
     "name": "stdout",
     "output_type": "stream",
     "text": [
      "key :  a , value :  1\n"
     ]
    }
   ],
   "source": [
    "def test2(**kwargs) : #keyword arguments\n",
    "    for key, value in kwargs.items() :\n",
    "        print('key : ', key, ', value : ',value)\n",
    "        \n",
    "test2(a=1)"
   ]
  },
  {
   "cell_type": "markdown",
   "metadata": {},
   "source": [
    " * 가변 길이 함수의 대표적인 예  \n",
    "  **문자열 포맷 함수**\n",
    "  - 여러가지 값과 포맷을 이용하여 문자열을 정의할 수 있는 함수\n",
    "  - {} placeholder를 문자열 내에 위치시킨 후, 해당 위치에 format 함수로 전달된 값을 대체하여 문자열 생성\n",
    "  - 포맷 구성 링크 참조 : https://pyformat.info/"
   ]
  },
  {
   "cell_type": "code",
   "execution_count": 28,
   "metadata": {},
   "outputs": [
    {
     "name": "stdout",
     "output_type": "stream",
     "text": [
      "오늘 온도 : 25도, 강수 확률 : 40%, 내일 온도 : 23도\n"
     ]
    }
   ],
   "source": [
    "a='오늘 온도 : {today_temp}도, 강수 확률 : {today_prob}%, 내일 온도 : {tomorrow_temp}도'.format(tomorrow_temp=23, today_prob=40, today_temp=25)\n",
    "print(a)"
   ]
  }
 ],
 "metadata": {
  "kernelspec": {
   "display_name": "Python 3",
   "language": "python",
   "name": "python3"
  },
  "language_info": {
   "codemirror_mode": {
    "name": "ipython",
    "version": 3
   },
   "file_extension": ".py",
   "mimetype": "text/x-python",
   "name": "python",
   "nbconvert_exporter": "python",
   "pygments_lexer": "ipython3",
   "version": "3.7.6"
  }
 },
 "nbformat": 4,
 "nbformat_minor": 4
}
