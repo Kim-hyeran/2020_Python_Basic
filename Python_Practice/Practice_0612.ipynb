{
 "cells": [
  {
   "cell_type": "markdown",
   "metadata": {},
   "source": [
    "### 가변 매개변수 함수(p.214)"
   ]
  },
  {
   "cell_type": "code",
   "execution_count": 2,
   "metadata": {},
   "outputs": [
    {
     "name": "stdout",
     "output_type": "stream",
     "text": [
      "안녕하세요\n",
      "즐거운\n",
      "파이썬 프로그래밍\n",
      "\n",
      "안녕하세요\n",
      "즐거운\n",
      "파이썬 프로그래밍\n",
      "\n",
      "안녕하세요\n",
      "즐거운\n",
      "파이썬 프로그래밍\n",
      "\n"
     ]
    }
   ],
   "source": [
    "def print_n_times(n, *values) :\n",
    "    for i in range(n) :\n",
    "        for value in values :\n",
    "            print(value)\n",
    "        print()\n",
    "        \n",
    "print_n_times(3, \"안녕하세요\", \"즐거운\", \"파이썬 프로그래밍\")"
   ]
  },
  {
   "cell_type": "code",
   "execution_count": 2,
   "metadata": {},
   "outputs": [
    {
     "name": "stdout",
     "output_type": "stream",
     "text": [
      "사과\n",
      "바나나\n",
      "복숭아\n",
      "오렌지\n",
      "포도\n",
      "딸기\n"
     ]
    }
   ],
   "source": [
    "def fruits(*args) :\n",
    "    for item in args :\n",
    "        print(item)\n",
    "        \n",
    "fruits(\"사과\", \"바나나\", \"복숭아\", \"오렌지\", \"포도\", \"딸기\")"
   ]
  },
  {
   "cell_type": "code",
   "execution_count": 16,
   "metadata": {},
   "outputs": [
    {
     "name": "stdout",
     "output_type": "stream",
     "text": [
      "key : 딸기  value : 잼\n",
      "key : 포도  value : 주스\n",
      "key : 복숭아  value : 통조림\n"
     ]
    }
   ],
   "source": [
    "def fruits(**kwags) :\n",
    "    for key, value in kwags.items() :\n",
    "        print(\"key :\", key, \" value :\", value)\n",
    "        \n",
    "fruits(딸기=\"잼\", 포도=\"주스\", 복숭아=\"통조림\")"
   ]
  },
  {
   "cell_type": "code",
   "execution_count": 17,
   "metadata": {},
   "outputs": [
    {
     "name": "stdout",
     "output_type": "stream",
     "text": [
      "재료 함량 : 딸기 40%, 바나나 30%, 우유 200ml, 설탕 10g\n"
     ]
    }
   ],
   "source": [
    "juice=(\"재료 함량 : 딸기 {strawberry}%, 바나나 {banana}%, 우유 {milk}ml, 설탕 {sugar}g\".format(strawberry=40, banana=30, milk=200, sugar=10))\n",
    "print(juice)"
   ]
  }
 ],
 "metadata": {
  "kernelspec": {
   "display_name": "Python 3",
   "language": "python",
   "name": "python3"
  },
  "language_info": {
   "codemirror_mode": {
    "name": "ipython",
    "version": 3
   },
   "file_extension": ".py",
   "mimetype": "text/x-python",
   "name": "python",
   "nbconvert_exporter": "python",
   "pygments_lexer": "ipython3",
   "version": "3.7.6"
  }
 },
 "nbformat": 4,
 "nbformat_minor": 4
}
